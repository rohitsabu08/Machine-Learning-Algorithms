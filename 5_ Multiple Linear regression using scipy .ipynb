{
 "cells": [
  {
   "cell_type": "markdown",
   "metadata": {},
   "source": [
    "#### Objective:\n"
   ]
  },
  {
   "cell_type": "markdown",
   "metadata": {},
   "source": [
    "Multiple linear regression on cars dataset using 'Weight','Horsepower','Displacement' and 'Acceleration' as the predictors and MPG as the target variable"
   ]
  },
  {
   "cell_type": "code",
   "execution_count": 8,
   "metadata": {},
   "outputs": [],
   "source": [
    "# importing the required libraries\n",
    "import os\n",
    "import numpy as np\n",
    "import pandas as pd\n",
    "#libraries for test train split and linear regression\n",
    "from sklearn.model_selection import train_test_split\n",
    "from sklearn.linear_model import LinearRegression"
   ]
  },
  {
   "cell_type": "code",
   "execution_count": 2,
   "metadata": {},
   "outputs": [],
   "source": [
    "#imoporting the cars dataset\n",
    "cars=pd.read_csv(\"cars.csv\")"
   ]
  },
  {
   "cell_type": "code",
   "execution_count": 4,
   "metadata": {},
   "outputs": [
    {
     "data": {
      "text/html": [
       "<div>\n",
       "<style scoped>\n",
       "    .dataframe tbody tr th:only-of-type {\n",
       "        vertical-align: middle;\n",
       "    }\n",
       "\n",
       "    .dataframe tbody tr th {\n",
       "        vertical-align: top;\n",
       "    }\n",
       "\n",
       "    .dataframe thead th {\n",
       "        text-align: right;\n",
       "    }\n",
       "</style>\n",
       "<table border=\"1\" class=\"dataframe\">\n",
       "  <thead>\n",
       "    <tr style=\"text-align: right;\">\n",
       "      <th></th>\n",
       "      <th>MPG</th>\n",
       "      <th>Cylinders</th>\n",
       "      <th>Displacement</th>\n",
       "      <th>Horsepower</th>\n",
       "      <th>Weight</th>\n",
       "      <th>Acceleration</th>\n",
       "      <th>Model</th>\n",
       "    </tr>\n",
       "  </thead>\n",
       "  <tbody>\n",
       "    <tr>\n",
       "      <th>0</th>\n",
       "      <td>18.0</td>\n",
       "      <td>8</td>\n",
       "      <td>307.0</td>\n",
       "      <td>130</td>\n",
       "      <td>3504</td>\n",
       "      <td>12.0</td>\n",
       "      <td>70</td>\n",
       "    </tr>\n",
       "    <tr>\n",
       "      <th>1</th>\n",
       "      <td>15.0</td>\n",
       "      <td>8</td>\n",
       "      <td>350.0</td>\n",
       "      <td>165</td>\n",
       "      <td>3693</td>\n",
       "      <td>11.5</td>\n",
       "      <td>70</td>\n",
       "    </tr>\n",
       "    <tr>\n",
       "      <th>2</th>\n",
       "      <td>18.0</td>\n",
       "      <td>8</td>\n",
       "      <td>318.0</td>\n",
       "      <td>150</td>\n",
       "      <td>3436</td>\n",
       "      <td>11.0</td>\n",
       "      <td>70</td>\n",
       "    </tr>\n",
       "    <tr>\n",
       "      <th>3</th>\n",
       "      <td>16.0</td>\n",
       "      <td>8</td>\n",
       "      <td>304.0</td>\n",
       "      <td>150</td>\n",
       "      <td>3433</td>\n",
       "      <td>12.0</td>\n",
       "      <td>70</td>\n",
       "    </tr>\n",
       "    <tr>\n",
       "      <th>4</th>\n",
       "      <td>17.0</td>\n",
       "      <td>8</td>\n",
       "      <td>302.0</td>\n",
       "      <td>140</td>\n",
       "      <td>3449</td>\n",
       "      <td>10.5</td>\n",
       "      <td>70</td>\n",
       "    </tr>\n",
       "    <tr>\n",
       "      <th>...</th>\n",
       "      <td>...</td>\n",
       "      <td>...</td>\n",
       "      <td>...</td>\n",
       "      <td>...</td>\n",
       "      <td>...</td>\n",
       "      <td>...</td>\n",
       "      <td>...</td>\n",
       "    </tr>\n",
       "    <tr>\n",
       "      <th>401</th>\n",
       "      <td>27.0</td>\n",
       "      <td>4</td>\n",
       "      <td>140.0</td>\n",
       "      <td>86</td>\n",
       "      <td>2790</td>\n",
       "      <td>15.6</td>\n",
       "      <td>82</td>\n",
       "    </tr>\n",
       "    <tr>\n",
       "      <th>402</th>\n",
       "      <td>44.0</td>\n",
       "      <td>4</td>\n",
       "      <td>97.0</td>\n",
       "      <td>52</td>\n",
       "      <td>2130</td>\n",
       "      <td>24.6</td>\n",
       "      <td>82</td>\n",
       "    </tr>\n",
       "    <tr>\n",
       "      <th>403</th>\n",
       "      <td>32.0</td>\n",
       "      <td>4</td>\n",
       "      <td>135.0</td>\n",
       "      <td>84</td>\n",
       "      <td>2295</td>\n",
       "      <td>11.6</td>\n",
       "      <td>82</td>\n",
       "    </tr>\n",
       "    <tr>\n",
       "      <th>404</th>\n",
       "      <td>28.0</td>\n",
       "      <td>4</td>\n",
       "      <td>120.0</td>\n",
       "      <td>79</td>\n",
       "      <td>2625</td>\n",
       "      <td>18.6</td>\n",
       "      <td>82</td>\n",
       "    </tr>\n",
       "    <tr>\n",
       "      <th>405</th>\n",
       "      <td>31.0</td>\n",
       "      <td>4</td>\n",
       "      <td>119.0</td>\n",
       "      <td>82</td>\n",
       "      <td>2720</td>\n",
       "      <td>19.4</td>\n",
       "      <td>82</td>\n",
       "    </tr>\n",
       "  </tbody>\n",
       "</table>\n",
       "<p>406 rows × 7 columns</p>\n",
       "</div>"
      ],
      "text/plain": [
       "      MPG  Cylinders  Displacement  Horsepower  Weight  Acceleration  Model\n",
       "0    18.0          8         307.0         130    3504          12.0     70\n",
       "1    15.0          8         350.0         165    3693          11.5     70\n",
       "2    18.0          8         318.0         150    3436          11.0     70\n",
       "3    16.0          8         304.0         150    3433          12.0     70\n",
       "4    17.0          8         302.0         140    3449          10.5     70\n",
       "..    ...        ...           ...         ...     ...           ...    ...\n",
       "401  27.0          4         140.0          86    2790          15.6     82\n",
       "402  44.0          4          97.0          52    2130          24.6     82\n",
       "403  32.0          4         135.0          84    2295          11.6     82\n",
       "404  28.0          4         120.0          79    2625          18.6     82\n",
       "405  31.0          4         119.0          82    2720          19.4     82\n",
       "\n",
       "[406 rows x 7 columns]"
      ]
     },
     "execution_count": 4,
     "metadata": {},
     "output_type": "execute_result"
    }
   ],
   "source": [
    "cars = cars.drop(['Car','Origin'],axis =1)  #dropping the columns of qualitative data to standardize the data\n",
    "#file_array = np.array( file.drop(['sex','country'],axis=1) )\n",
    "cars"
   ]
  },
  {
   "cell_type": "code",
   "execution_count": 5,
   "metadata": {},
   "outputs": [],
   "source": [
    "#standardizing the data and declacring the predictor and target variables\n",
    "cars = cars.apply(lambda x: ( x - np.mean(x)) / np.std(x))\n",
    "X = cars2[['Weight','Horsepower','Displacement',\"Acceleration\"]]\n",
    "y = cars2['MPG']"
   ]
  },
  {
   "cell_type": "code",
   "execution_count": 9,
   "metadata": {},
   "outputs": [],
   "source": [
    "#Splitting the data to X_train , X_test, y_train , y_test using the train_test_split function in 7:3 ratio\n",
    "\n",
    "(X_train , X_test, y_train , y_test) = train_test_split(X,y,test_size=0.3, random_state = 4)"
   ]
  },
  {
   "cell_type": "code",
   "execution_count": 10,
   "metadata": {},
   "outputs": [],
   "source": [
    "linear_regressor = LinearRegression()  # create object for the class"
   ]
  },
  {
   "cell_type": "code",
   "execution_count": 14,
   "metadata": {},
   "outputs": [
    {
     "data": {
      "text/plain": [
       "LinearRegression()"
      ]
     },
     "execution_count": 14,
     "metadata": {},
     "output_type": "execute_result"
    }
   ],
   "source": [
    "linear_regressor.fit(X_train, y_train)  # perform linear regression"
   ]
  },
  {
   "cell_type": "code",
   "execution_count": 15,
   "metadata": {},
   "outputs": [],
   "source": [
    "Y_pred = linear_regressor.predict(X_test)  # make predictions"
   ]
  },
  {
   "cell_type": "code",
   "execution_count": 16,
   "metadata": {},
   "outputs": [
    {
     "data": {
      "text/plain": [
       "array([28.81096186, 10.11164935, 29.04668369, 22.97581374, 32.06602589,\n",
       "       30.2301026 , 23.1580458 , 30.12418349, 28.64516996, 28.59351294,\n",
       "       13.56422712, 14.09846469, 26.33797311, 20.61784271, 25.86054334,\n",
       "       18.49871515, 26.93282041, 13.91175828, 24.47377473, 29.59352496,\n",
       "       28.20714442, 20.88048369, 23.24116564, 14.97989207, 11.83053458,\n",
       "       13.942835  , 30.6434596 , 14.28087478, 21.25432606, 28.45146507,\n",
       "        6.64346871, 12.25622729, 28.86773663, 23.87915769, 30.99094374,\n",
       "       10.4702459 , 25.38778382, 22.52832553, 29.24233184, 24.29452556,\n",
       "       13.24463424, 21.54077632, 16.50686139, 26.82903412, 23.0169629 ,\n",
       "       31.37584857, 21.64454329, 25.94889118, 18.5234842 , 29.4634455 ,\n",
       "       28.92268919, 14.95610485, 27.47893745, 27.14339104, 29.18433584,\n",
       "       15.22734295, 27.60073769, 24.2858684 , 23.2159457 , 31.34898101,\n",
       "       25.97263009, 17.17620803, 15.58521989, 20.12596326, 22.06442266,\n",
       "        9.38515267, 23.14827613, 28.04201628, 19.41470944, 30.19977788,\n",
       "       29.44002493, 31.69025504, 18.59803323, 19.50560145, 23.63656649,\n",
       "       22.72478985, 30.22228351, 25.16195999, 30.39279571, 16.38960419,\n",
       "       20.09154563, 15.12766206, 20.9743614 , 14.81313985, 30.99568555,\n",
       "       28.57974095, 24.41815447, 22.91003811, 26.76233682, 16.27643873,\n",
       "       31.67925061, 18.08678529, 23.48718853, 21.58771195, 16.19964528,\n",
       "       20.95912187, 17.63067333, 23.24475579, 29.85982511, 24.73984672,\n",
       "       25.35317371, 24.35031717, 31.3071197 , 30.53305678, 14.98503757,\n",
       "       30.76601344, 20.94948625, 26.89335666, 23.50336672, 11.73365795,\n",
       "       28.22765353, 29.64580053, 31.43097197, 26.41489692, 17.59011413,\n",
       "       13.51533649, 32.28172193, 29.23874896, 27.67091857, 30.47699349,\n",
       "       27.45039479, 17.26155909])"
      ]
     },
     "execution_count": 16,
     "metadata": {},
     "output_type": "execute_result"
    }
   ],
   "source": [
    "#predicted palues of y \n",
    "Y_pred"
   ]
  },
  {
   "cell_type": "code",
   "execution_count": null,
   "metadata": {},
   "outputs": [],
   "source": []
  }
 ],
 "metadata": {
  "kernelspec": {
   "display_name": "Python 3",
   "language": "python",
   "name": "python3"
  },
  "language_info": {
   "codemirror_mode": {
    "name": "ipython",
    "version": 3
   },
   "file_extension": ".py",
   "mimetype": "text/x-python",
   "name": "python",
   "nbconvert_exporter": "python",
   "pygments_lexer": "ipython3",
   "version": "3.8.5"
  }
 },
 "nbformat": 4,
 "nbformat_minor": 4
}
